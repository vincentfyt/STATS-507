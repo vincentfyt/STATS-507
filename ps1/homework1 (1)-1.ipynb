{
 "cells": [
  {
   "cell_type": "markdown",
   "metadata": {},
   "source": [
    "<hr>\n",
    "\n",
    "This is question 0 for <span style=\"color:red\"> problem set 1 </span> of <span style=\"color:red\"> Stats 507</span>.\n",
    "\n",
    ">Question 0 is about Markdown.\n",
    "\n",
    "The next question is about the **Fibonacci sequence,$F_n$ = $F_{n-2}$ + $F_{n-1}$**. In part **a** we will define a Python function `fib_rec()`.\n",
    "\n",
    "Below is a …\n",
    "\n",
    "### Level 3 Header\n",
    "Next, we can make a bulleted list:\n",
    "* Item 1\n",
    "\n",
    "  * detail 1\n",
    "  * detail 2\n",
    "* Item 2\n",
    "\n",
    "\n",
    "\n",
    "Finally, we can make an enumerated list:\n",
    "1. Item1\n",
    "2. Item2\n",
    "3. Item3\n",
    "\n",
    "\n",
    "<hr>\n"
   ]
  },
  {
   "cell_type": "markdown",
   "metadata": {},
   "source": [
    "**Question 1**"
   ]
  },
  {
   "cell_type": "markdown",
   "metadata": {},
   "source": [
    "Part a"
   ]
  },
  {
   "cell_type": "code",
   "execution_count": null,
   "metadata": {},
   "outputs": [],
   "source": [
    "# import packages\n",
    "from timeit import default_timer as timer\n",
    "import numpy as np\n",
    "import pandas as pd\n",
    "import math as math\n",
    "from scipy.stats import norm\n",
    "import numpy as np\n",
    "from scipy.stats import beta"
   ]
  },
  {
   "cell_type": "code",
   "execution_count": null,
   "metadata": {
    "lines_to_next_cell": 1
   },
   "outputs": [],
   "source": [
    "### question 1\n",
    "#(a)\n",
    "def fib_rec(n):\n",
    "    if n <= 0:\n",
    "        print(\"incorrect input\")\n",
    "    elif n == 0:\n",
    "        return 0\n",
    "    elif n == 1 or n ==2:\n",
    "        return 1\n",
    "    elif n > 1:\n",
    "        return fib_rec(n-2)+fib_rec(n-1)"
   ]
  },
  {
   "cell_type": "code",
   "execution_count": null,
   "metadata": {},
   "outputs": [],
   "source": [
    "print(fib_rec(7))\n",
    "print(fib_rec(11))\n",
    "print(fib_rec(13))"
   ]
  },
  {
   "cell_type": "markdown",
   "metadata": {},
   "source": [
    "Part b"
   ]
  },
  {
   "cell_type": "code",
   "execution_count": null,
   "metadata": {
    "lines_to_next_cell": 1
   },
   "outputs": [],
   "source": [
    "#b\n",
    "def fib_for(n):\n",
    "    if n < 2:\n",
    "        return n\n",
    "    f0 = 0\n",
    "    f1 = 1\n",
    "    fn = 0\n",
    "    for i in range(n - 1):\n",
    "        fn = f0 + f1\n",
    "        f0 = f1\n",
    "        f1 = fn\n",
    "    return fn\n",
    "#test\n",
    "print(fib_for(7))\n",
    "print(fib_for(11))\n",
    "print(fib_for(13))"
   ]
  },
  {
   "cell_type": "markdown",
   "metadata": {},
   "source": [
    "Part c"
   ]
  },
  {
   "cell_type": "code",
   "execution_count": null,
   "metadata": {
    "lines_to_next_cell": 1
   },
   "outputs": [],
   "source": [
    "#c\n",
    "def fib_whl(n):\n",
    "    if n<2:\n",
    "        return n\n",
    "    f0 = 0\n",
    "    f1 = 1\n",
    "    fn = 0\n",
    "    i = 1\n",
    "    while i <= n-1:\n",
    "        fn = f0+f1\n",
    "        f0 = f1\n",
    "        f1 = fn\n",
    "        i = i+1\n",
    "    return fn"
   ]
  },
  {
   "cell_type": "code",
   "execution_count": null,
   "metadata": {},
   "outputs": [],
   "source": [
    "#test\n",
    "print(fib_whl(7))\n",
    "print(fib_whl(11))\n",
    "print(fib_whl(13))"
   ]
  },
  {
   "cell_type": "markdown",
   "metadata": {},
   "source": [
    "Part d"
   ]
  },
  {
   "cell_type": "code",
   "execution_count": null,
   "metadata": {},
   "outputs": [],
   "source": [
    "#d\n",
    "\n",
    "def fib_rnd(n):\n",
    "    phi = (1+math.sqrt(5))/2.0\n",
    "    fn = math.pow(phi,n)/math.sqrt(5)\n",
    "    return round(fn)"
   ]
  },
  {
   "cell_type": "code",
   "execution_count": null,
   "metadata": {
    "lines_to_next_cell": 1
   },
   "outputs": [],
   "source": [
    "#test\n",
    "print(fib_rnd(7))\n",
    "print(fib_rnd(11))\n",
    "print(fib_rnd(13))"
   ]
  },
  {
   "cell_type": "markdown",
   "metadata": {},
   "source": [
    "Part e"
   ]
  },
  {
   "cell_type": "code",
   "execution_count": null,
   "metadata": {},
   "outputs": [],
   "source": [
    "# e\n",
    "def fib_flr(n):\n",
    "    phi = (1+math.sqrt(5))/2.0\n",
    "    fn = math.pow(phi, n)/math.sqrt(5)+0.5\n",
    "    return math.floor(fn)\n",
    "#test\n",
    "print(fib_flr(7))\n",
    "print(fib_flr(11))\n",
    "print(fib_flr(13))"
   ]
  },
  {
   "cell_type": "markdown",
   "metadata": {},
   "source": [
    "Part f"
   ]
  },
  {
   "cell_type": "code",
   "execution_count": null,
   "metadata": {
    "lines_to_end_of_cell_marker": 2,
    "lines_to_next_cell": 2
   },
   "outputs": [],
   "source": [
    "# f\n",
    "\n",
    "array = np.zeros((3,6))# creat a dataframe\n",
    "repeat = 10 \n",
    "for n in range(10,40,10):#test with different input in fib functions\n",
    "    i = int(n/10)\n",
    "    array[(i-1),0] = n # fill the value in dataframe\n",
    "    rep = 1 # set repeat time and use that within while loop\n",
    "    m = np.zeros(repeat)\n",
    "    while rep<= repeat:\n",
    "        #set break point to record the time\n",
    "        t1_start = timer()\n",
    "        fib_rec(n)\n",
    "        # set end point to record the time\n",
    "        t1_end = timer()\n",
    "        # calculate proccess time\n",
    "        m[rep-1] = t1_end-t1_start\n",
    "        rep = rep+1\n",
    "        # find the medium of the array and fill the valye in dataframe\n",
    "    array[(i-1),1] = np.median(m) # find the medium of the array and fill the valye in dataframe\n",
    "\n",
    "    rep = 1\n",
    "    m = np.zeros(repeat)\n",
    "    while rep<= repeat:\n",
    "        t2_start = timer()\n",
    "        fib_for(n)\n",
    "        t2_end = timer()\n",
    "        m[rep-1]  = t2_end-t2_start\n",
    "        rep = rep+1\n",
    "    array[(i-1),2] = np.median(m)\n",
    "\n",
    "    rep = 1\n",
    "    m = np.zeros(repeat)\n",
    "    while rep<= repeat:\n",
    "        t3_start = timer()\n",
    "        fib_whl(n)\n",
    "        t3_end = timer()\n",
    "        m[rep-1] = t3_end-t3_start\n",
    "        rep = rep+1    \n",
    "    array[(i-1),3] = np.median(m)\n",
    "    rep = 1\n",
    "    m = np.zeros(repeat)\n",
    "    while rep<= repeat:\n",
    "        t4_start = timer()\n",
    "        fib_rnd(n)\n",
    "        t3_end = timer()\n",
    "        m[rep-1] = t3_end-t3_start\n",
    "        rep = rep+1\n",
    "    array[(i-1),4] = np.median(m)\n",
    "    \n",
    "    rep = 1\n",
    "    m = np.zeros(repeat)\n",
    "    while rep<= repeat:\n",
    "        t4_start = timer()\n",
    "        fib_flr(n)\n",
    "        t4_end = timer()\n",
    "        m[rep-1] = t4_end-t4_start\n",
    "        rep = rep+1    \n",
    "    array[(i-1),5] = np.median(m)\n",
    "    \n",
    "    \n",
    "times = pd.DataFrame(array)\n",
    "#change the names of columns\n",
    "times.columns = [\"repeat time\",\"rec\",\"for\",\"while\",\"round\",\"floor\"]\n",
    "print(times)"
   ]
  },
  {
   "cell_type": "markdown",
   "metadata": {},
   "source": [
    "**Question 2**"
   ]
  },
  {
   "cell_type": "markdown",
   "metadata": {},
   "source": [
    "part a"
   ]
  },
  {
   "cell_type": "code",
   "execution_count": null,
   "metadata": {},
   "outputs": [],
   "source": [
    "def pascaline(n):\n",
    "     line = [1]       \n",
    "     for k in range(max(n,0)):             \n",
    "         line.append(int(line[k]*(n-k)/(k+1)))             \n",
    "     return line\n",
    "print(pascaline(9))"
   ]
  },
  {
   "cell_type": "markdown",
   "metadata": {},
   "source": [
    "part b"
   ]
  },
  {
   "cell_type": "code",
   "execution_count": null,
   "metadata": {
    "lines_to_next_cell": 0
   },
   "outputs": [],
   "source": [
    "def pascal2(rows):\n",
    "    row1 = [1]\n",
    "    row2 = [1, 1]\n",
    "    trg = [row1, row2]\n",
    "    r = []\n",
    "    if rows == 1:\n",
    "        row1[0] = str(row1[0])\n",
    "        print(' '.join(row1))\n",
    "    elif rows == 2:\n",
    "        for o in trg:\n",
    "            for a in range(len(o)):\n",
    "                o[a] = str(o[a])\n",
    "            print((' ')*(2-(a+1)), (' '.join(o)))\n",
    "    else:\n",
    "        for i in range(2, rows):\n",
    "            trg.append([1]*i)\n",
    "            for n in range(1, i):\n",
    "                trg[i][n] = (trg[i-1][n-1]+trg[i-1][n])\n",
    "            trg[i].append(1)\n",
    "        for x in range(len(trg)):\n",
    "            for y in trg[x]:\n",
    "                s = str(y)\n",
    "                r.append(s)\n",
    "            print(('  ')*(rows-(x+1)), ('   ' .join(r)))\n",
    "            r = []\n",
    "\n",
    "pascal2(10)"
   ]
  },
  {
   "cell_type": "markdown",
   "metadata": {},
   "source": [
    "**Question3**"
   ]
  },
  {
   "cell_type": "markdown",
   "metadata": {},
   "source": [
    "part a"
   ]
  },
  {
   "cell_type": "code",
   "execution_count": null,
   "metadata": {
    "lines_to_end_of_cell_marker": 2
   },
   "outputs": [],
   "source": [
    "def pointestimate(n,a,input1):\n",
    "    input2 = \"{:.1%}\".format(a)\n",
    "    n = np.array(n) \n",
    "    est = np.mean(n)\n",
    "    std = np.std(n)/math.sqrt(n.size)\n",
    "    z = -norm.ppf((1-a)/2)\n",
    "    lwr = est-z*std\n",
    "    upr = est+z*std  \n",
    "    if input1 != None:\n",
    "        #create the string for filling value\n",
    "        string1 =  \"{0:4f} [{1}CI:({2:.4f},{3:.4f})]\"#create the string for filling value\n",
    "        return string1.format(est,input2,lwr,upr)\n",
    "    else:     \n",
    "        ci= {'est':est,'lwr':lwr,'upr':upr,'level':a}\n",
    "        return ci\n",
    "        print(ci)                   \n",
    "np.random.seed(1)\n",
    "\n",
    "random_arr = np.random.randn(50)\n",
    "\n",
    "pointestimate(random_arr, 0.95, \"ww\")"
   ]
  },
  {
   "cell_type": "code",
   "execution_count": null,
   "metadata": {},
   "outputs": [],
   "source": [
    "test1 = pointestimate([1,2,3,4,5],0.95,None)\n",
    "type(test1)"
   ]
  },
  {
   "cell_type": "code",
   "execution_count": null,
   "metadata": {},
   "outputs": [],
   "source": [
    "\n",
    "def binomial(n,a,method):\n",
    "    n = np.array(n)\n",
    "    input2 = \"{:.1%}\".format(a)\n",
    "    method = str(method)\n",
    "    times = np.count_nonzero(n == 1)\n",
    "    p = times/np.size(n)\n",
    "    lwr = p-(-norm.ppf((1-a)/2))*math.sqrt(p*(1-p)/np.size(n))\n",
    "    upr = p+(-norm.ppf((1-a)/2))*math.sqrt(p*(1-p)/np.size(n))\n",
    "    if method == \"binomial\":\n",
    "        if min(np.size(n)*p,np.size(n)*(1-p))>12:\n",
    "            return \"inapproriate\"\n",
    "            print(\"warning message: binomial estimation might not be accurate\")\n",
    "        else:\n",
    "            string2 =  \"{0:4f} [{1}CI:({2:.4f},{3:.4f})]\"\n",
    "            return string2.format(p,input2,lwr,upr)\n",
    "    else:\n",
    "          c2= {'p':p,'lwr':lwr,'upr':upr,'level':a}\n",
    "          return c2     \n",
    "       \n",
    "binomial([0,0,0,0,1,1,1], 0.95, \"binomial\")      "
   ]
  },
  {
   "cell_type": "code",
   "execution_count": null,
   "metadata": {
    "lines_to_next_cell": 0
   },
   "outputs": [],
   "source": [
    "\n",
    "def clopperperason(n,a,method):\n",
    "    n = np.array(n)\n",
    "    a = float(1-a)\n",
    "    input2 = \"{:.1%}\".format(1-a)\n",
    "    method = str(method)\n",
    "    times = np.count_nonzero(n == 1)\n",
    "    p = times/np.size(n)\n",
    "    lwr = beta.ppf(a/2,times,np.size(n)-times+1)\n",
    "    upr = beta.ppf(1-a/2,times+1,np.size(n)-times)    \n",
    "    if method == \"Clopper-Pearson\":\n",
    "        string3 =  \"{0:4f} [{1}CI:({2:.4f},{3:.4f})]\"\n",
    "        return string3.format(p,input2,lwr,upr)\n",
    "    else:\n",
    "        c3= {'p':p,'lwr':lwr,'upr':upr,'level':a}\n",
    "        return c3\n",
    "    \n",
    "clopperperason([0,0,0,0,1,1,1],0.95,\"Clopper-Pearson\")"
   ]
  },
  {
   "cell_type": "code",
   "execution_count": null,
   "metadata": {},
   "outputs": [],
   "source": [
    "def jeffrey(n,a,method):\n",
    "    n = np.array(n)\n",
    "    a = float(1-a)\n",
    "    input2 = \"{:.1%}\".format(1-a)\n",
    "    method = str(method)\n",
    "    times = np.count_nonzero(n == 1)\n",
    "    p = times/np.size(n)   \n",
    "    lwr = max(0,beta.ppf(a/2,times+0.5,np.size(n)-times+0.5))\n",
    "    upr = min(beta.ppf(1-a/2,times+0.5,np.size(n)-times+0.5),1)\n",
    "    if method == \"jeffrey\":\n",
    "        string4 =  \"{0:4f} [{1}CI:({2:.4f},{3:.4f})]\"\n",
    "        return string4.format(p,input2,lwr,upr)\n",
    "    else:\n",
    "        c3= {'p':p,'lwr':lwr,'upr':upr,'level':a}\n",
    "        return c3\n",
    "    \n",
    "jeffrey([0,0,0,0,1,1,1],0.95,\"jeffrey\")"
   ]
  },
  {
   "cell_type": "code",
   "execution_count": null,
   "metadata": {},
   "outputs": [],
   "source": [
    "def ACinterval(n,a,method):\n",
    "    n = np.array(n)\n",
    "    z = -norm.ppf((1-a)/2)\n",
    "    input2 = \"{:.1%}\".format(a)\n",
    "    ntuta = np.size(n)+z**2\n",
    "    times = np.count_nonzero(n == 1)\n",
    "    method = str(method)\n",
    "    p = (times+z**2/2)/ntuta\n",
    "    lwr = p-z*math.sqrt(p*(1-p)/ntuta)\n",
    "    upr = p+z*math.sqrt(p*(1-p)/ntuta)\n",
    "    if method == \"AC\":\n",
    "        string5 = \"{0:4f} [{1}CI:({2:.4f},{3:.4f})]\"\n",
    "        return string5.format(p,input2,lwr,upr)\n",
    "    else:\n",
    "        c4= {'p':p,'lwr':lwr,'upr':upr,'level':a}\n",
    "        return c4\n",
    "    \n",
    "ACinterval([0,0,0,0,1,1,1],0.95,\"AC\")"
   ]
  },
  {
   "cell_type": "code",
   "execution_count": null,
   "metadata": {},
   "outputs": [],
   "source": [
    "zero = np.zeros(48)\n",
    "one = np.ones(42)\n",
    "c = np.concatenate([one,zero])\n",
    "\n",
    "ACinterval(c,0.95,\"AC\")\n",
    "\n",
    "\n",
    "\n",
    "newarray = [0.90,0.95,0.99]\n",
    "import pandas as pd \n",
    "\n",
    "# create a data frame\n",
    "df = pd.DataFrame() \n",
    "\n",
    "# fill the value\n",
    "df['90%'] = [pointestimate(c,newarray[0],1),binomial(c, newarray[0], \"binomial\"), \n",
    "          clopperperason(c,newarray[0],\"Clopper-Pearson\"), jeffrey(c,newarray[0],\"jeffrey\"), \n",
    "             ACinterval(c,newarray[0],\"AC\")]\n",
    "df['95%'] = [pointestimate(c,newarray[1],1),binomial(c, newarray[1], \"binomial\"), \n",
    "          clopperperason(c,newarray[1],\"Clopper-Pearson\"), jeffrey(c,newarray[1],\"jeffrey\"), \n",
    "             ACinterval(c,newarray[1],\"AC\")]\n",
    "df['99%'] = [pointestimate(c,newarray[2],1),binomial(c, newarray[2], \"binomial\"), \n",
    "          clopperperason(c,newarray[2],\"Clopper-Pearson\"), jeffrey(c,newarray[2],\"jeffrey\"), \n",
    "             ACinterval(c,newarray[2],\"AC\")]\n",
    "\n",
    "df1 = df.set_axis(['normal', 'binomial', 'clopperpearson','jeffrey',\"AC\"], axis=0)\n",
    "\n",
    "\n",
    "print(df1)"
   ]
  },
  {
   "cell_type": "markdown",
   "metadata": {},
   "source": [
    "When we have 90% confidence interval AC **Agresti–Coull interval** has the smallest width.<br>\n",
    "when we have 95% confidence interval AC **Agresti–Coull interval** has the smallest width.<br>\n",
    "when we have 99% confidence interval AC **Agresti–Coull interval** has the smallest width."
   ]
  }
 ],
 "metadata": {
  "jupytext": {
   "cell_metadata_filter": "-all",
   "encoding": "# -*- coding: utf-8 -*-",
   "notebook_metadata_filter": "-all",
   "text_representation": {
    "extension": ".py",
    "format_name": "light"
   }
  },
  "kernelspec": {
   "display_name": "Python 3",
   "language": "python",
   "name": "python3"
  }
 },
 "nbformat": 4,
 "nbformat_minor": 4
}
